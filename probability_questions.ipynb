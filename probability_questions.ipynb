{
 "cells": [
  {
   "cell_type": "markdown",
   "metadata": {},
   "source": [
    "<div dir=\"rtl\">\n",
    "اگر 𝐴 , 𝐵 و 𝐶 به ترتيب پيشامد خريد پودرهای لباسشويی نوع 1 , 2 و 3 با اين احتمال ها باشند،\n",
    "احتمال پيشامد خريدهای مطلوب زير را بيابيد.\n",
    "{𝑃(𝐴)=0.55𝑃(𝐵)=0.5𝑃(𝐶)=0.5 ,{𝑃(𝐴∪𝐵)=0.8𝑃(𝐴∪𝐶)=0.8𝑃(𝐵∪𝐶)=0.7 ,𝑃(𝐴∪𝐵∪𝐶)=0.9\n",
    "آ ( هر سه پودر ب ( دقيقا دو پودر پ ( دقيقا يک پودر ت 4 ( هيچ پودر\n",
    "</div>\n"
   ]
  },
  {
   "cell_type": "code",
   "execution_count": 1,
   "metadata": {},
   "outputs": [
    {
     "name": "stdout",
     "output_type": "stream",
     "text": [
      "احتمال خرید همه سه نوع پودر: 0.15000000000000002\n",
      "احتمال خرید تنها نوع 1: 0.65\n",
      "احتمال خرید تنها نوع 2: 0.6\n",
      "احتمال خرید تنها نوع 3: 0.6\n",
      "احتمال عدم خرید هیچ نوع پودر: 0.09999999999999998\n"
     ]
    }
   ],
   "source": [
    "# Given probabilities\n",
    "P_A = 0.55\n",
    "P_B = 0.5\n",
    "P_C = 0.5\n",
    "P_A_union_B = 0.8\n",
    "P_A_union_C = 0.8\n",
    "P_B_union_C = 0.7\n",
    "P_A_union_B_union_C = 0.9\n",
    "\n",
    "# Calculate probabilities using the inclusion-exclusion principle\n",
    "P_A_intersect_B_intersect_C = P_A + P_B + P_C - P_A_union_B - P_A_union_C - P_B_union_C + P_A_union_B_union_C\n",
    "\n",
    "P_A_intersect_B_complement_intersect_C_complement = P_A - P_A_union_B + P_A_union_B_union_C\n",
    "P_A_complement_intersect_B_intersect_C_complement = P_B - P_A_union_B + P_A_union_B_union_C\n",
    "P_A_complement_intersect_B_complement_intersect_C = P_C - P_A_union_C + P_A_union_B_union_C\n",
    "\n",
    "P_A_complement_intersect_B_complement_intersect_C_complement = 1 - P_A_union_B_union_C\n",
    "\n",
    "# Display the results\n",
    "print(\"احتمال خرید همه سه نوع پودر:\", P_A_intersect_B_intersect_C)\n",
    "print(\"احتمال خرید تنها نوع 1:\", P_A_intersect_B_complement_intersect_C_complement)\n",
    "print(\"احتمال خرید تنها نوع 2:\", P_A_complement_intersect_B_intersect_C_complement)\n",
    "print(\"احتمال خرید تنها نوع 3:\", P_A_complement_intersect_B_complement_intersect_C)\n",
    "print(\"احتمال عدم خرید هیچ نوع پودر:\", P_A_complement_intersect_B_complement_intersect_C_complement)"
   ]
  },
  {
   "cell_type": "markdown",
   "metadata": {},
   "source": [
    "<div dir=\"rtl\">\n",
    "فرض کنيد مردها ۴۹ % افراد يک جامعه را تشکيل داده و در ۸۰ % مواقع سن واقعی خود را گفته و\n",
    "زنها در ۱۰ % مواقع سن واقعی خود را می گويند. اگر يک نفر سن واقعی خود را نگفته باشد, احتمال اين\n",
    "که او زن باشد چقدر است ؟\n",
    "</div>\n"
   ]
  },
  {
   "cell_type": "code",
   "execution_count": 2,
   "metadata": {},
   "outputs": [
    {
     "name": "stdout",
     "output_type": "stream",
     "text": [
      "احتمال اینکه اگر نفری سن واقعی خود را نگفته باشد، زن باشد: 0.8240574506283663\n"
     ]
    }
   ],
   "source": [
    "# Given probabilities\n",
    "P_M = 0.49\n",
    "P_W = 0.51\n",
    "P_A_given_M = 0.8\n",
    "P_A_given_W = 0.1\n",
    "\n",
    "# Calculate the probability of not telling the true age\n",
    "P_not_A = 1 - ((0.8 * 0.49) + (0.1 * 0.51))\n",
    "\n",
    "# Calculate the probability of being a woman given not telling the true age\n",
    "P_W_given_not_A = (0.51 * (1 - P_A_given_W)) / P_not_A\n",
    "\n",
    "# Display the result\n",
    "print(\"احتمال اینکه اگر نفری سن واقعی خود را نگفته باشد، زن باشد:\", P_W_given_not_A)"
   ]
  },
  {
   "cell_type": "markdown",
   "metadata": {},
   "source": [
    "<div dir=\"rtl\">\n",
    "برای تابع احتمال توام زير نشان دهي د 𝐸(𝑋) و 𝑀𝑋,𝑌(𝑡1,𝑡2) و 𝜌 موجود نيستند .\n",
    "𝑓(𝑥,𝑦)=𝑦𝑒−𝑦(1+𝑥) 𝑥>0,𝑦>0\n",
    "</div>\n"
   ]
  },
  {
   "cell_type": "code",
   "execution_count": null,
   "metadata": {},
   "outputs": [],
   "source": [
    "import numpy as np\n",
    "import matplotlib.pyplot as plt\n",
    "from scipy import integrate\n",
    "\n",
    "\n",
    "# تابع چگالی احتمال توام\n",
    "def joint_pdf(x, y):\n",
    "    return y * np.exp(-y * (1 + x))\n",
    "\n",
    "\n",
    "# محاسبه امیدریاضی توام E(X)\n",
    "E_X, _ = integrate.dblquad(lambda x, y: x * joint_pdf(x, y), 0, np.inf, 0, np.inf)\n",
    "\n",
    "\n",
    "# محاسبه ممیز توام M_X,Y(t1, t2)\n",
    "def M_XY(t1, t2):\n",
    "    return integrate.dblquad(lambda x, y: np.exp(t1 * x + t2 * y) * joint_pdf(x, y), 0, np.inf, 0, np.inf)\n",
    "\n",
    "\n",
    "# محاسبه ضریب همبستگی\n",
    "# متغیر‌های تصادفی X و Y مستقل هستند اگر و تنها اگر Cov(X, Y) = 0\n",
    "# ضریب همبستگی در اینجا 0 است چون Cov(X, Y) = 0 و Var(X), Var(Y) محاسبه نمی‌شوند.\n",
    "rho = 0\n",
    "\n",
    "# نمایش نتایج\n",
    "print(\"E(X):\", E_X)\n",
    "print(\"M_X,Y(t1=1, t2=1):\", M_XY(1, 1)[0])  # مقدار توزیع ممیز توام برای t1=1 و t2=1\n",
    "print(\"رابطه ضریب همبستگی (rho):\", rho)\n",
    "\n",
    "# ایجاد نمودار تابع چگالی احتمال\n",
    "x_values = np.linspace(0, 5, 100)\n",
    "y_values = np.linspace(0, 5, 100)\n",
    "X, Y = np.meshgrid(x_values, y_values)\n",
    "Z = joint_pdf(X, Y)\n",
    "\n",
    "plt.contour(X, Y, Z, cmap=\"viridis\", levels=20)\n",
    "plt.xlabel(\"X\")\n",
    "plt.ylabel(\"Y\")\n",
    "plt.title(\"تابع چگالی احتمال توام\")\n",
    "plt.show()"
   ]
  }
 ],
 "metadata": {
  "kernelspec": {
   "display_name": "Python 3",
   "language": "python",
   "name": "python3"
  },
  "language_info": {
   "codemirror_mode": {
    "name": "ipython",
    "version": 3
   },
   "file_extension": ".py",
   "mimetype": "text/x-python",
   "name": "python",
   "nbconvert_exporter": "python",
   "pygments_lexer": "ipython3",
   "version": "3.10.12"
  }
 },
 "nbformat": 4,
 "nbformat_minor": 2
}
