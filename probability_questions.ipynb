{
 "cells": [
  {
   "cell_type": "markdown",
   "metadata": {},
   "source": [
    "<div dir=\"rtl\">\n",
    "اگر 𝐴 , 𝐵 و 𝐶 به ترتيب پيشامد خريد پودرهای لباسشويی نوع 1 , 2 و 3 با اين احتمال ها باشند،\n",
    "احتمال پيشامد خريدهای مطلوب زير را بيابيد.\n",
    "{𝑃(𝐴)=0.55𝑃(𝐵)=0.5𝑃(𝐶)=0.5 ,{𝑃(𝐴∪𝐵)=0.8𝑃(𝐴∪𝐶)=0.8𝑃(𝐵∪𝐶)=0.7 ,𝑃(𝐴∪𝐵∪𝐶)=0.9\n",
    "آ ( هر سه پودر ب ( دقيقا دو پودر پ ( دقيقا يک پودر ت 4 ( هيچ پودر\n",
    "</div>\n"
   ]
  },
  {
   "cell_type": "code",
   "execution_count": 1,
   "metadata": {},
   "outputs": [
    {
     "name": "stdout",
     "output_type": "stream",
     "text": [
      "احتمال خرید همه سه نوع پودر: 0.15000000000000002\n",
      "احتمال خرید تنها نوع 1: 0.65\n",
      "احتمال خرید تنها نوع 2: 0.6\n",
      "احتمال خرید تنها نوع 3: 0.6\n",
      "احتمال عدم خرید هیچ نوع پودر: 0.09999999999999998\n"
     ]
    }
   ],
   "source": [
    "# Given probabilities\n",
    "P_A = 0.55\n",
    "P_B = 0.5\n",
    "P_C = 0.5\n",
    "P_A_union_B = 0.8\n",
    "P_A_union_C = 0.8\n",
    "P_B_union_C = 0.7\n",
    "P_A_union_B_union_C = 0.9\n",
    "\n",
    "# Calculate probabilities using the inclusion-exclusion principle\n",
    "P_A_intersect_B_intersect_C = P_A + P_B + P_C - P_A_union_B - P_A_union_C - P_B_union_C + P_A_union_B_union_C\n",
    "\n",
    "P_A_intersect_B_complement_intersect_C_complement = P_A - P_A_union_B + P_A_union_B_union_C\n",
    "P_A_complement_intersect_B_intersect_C_complement = P_B - P_A_union_B + P_A_union_B_union_C\n",
    "P_A_complement_intersect_B_complement_intersect_C = P_C - P_A_union_C + P_A_union_B_union_C\n",
    "\n",
    "P_A_complement_intersect_B_complement_intersect_C_complement = 1 - P_A_union_B_union_C\n",
    "\n",
    "# Display the results\n",
    "print(\"احتمال خرید همه سه نوع پودر:\", P_A_intersect_B_intersect_C)\n",
    "print(\"احتمال خرید تنها نوع 1:\", P_A_intersect_B_complement_intersect_C_complement)\n",
    "print(\"احتمال خرید تنها نوع 2:\", P_A_complement_intersect_B_intersect_C_complement)\n",
    "print(\"احتمال خرید تنها نوع 3:\", P_A_complement_intersect_B_complement_intersect_C)\n",
    "print(\"احتمال عدم خرید هیچ نوع پودر:\", P_A_complement_intersect_B_complement_intersect_C_complement)"
   ]
  },
  {
   "cell_type": "markdown",
   "metadata": {},
   "source": [
    "<div dir=\"rtl\">\n",
    "فرض کنيد مردها ۴۹ % افراد يک جامعه را تشکيل داده و در ۸۰ % مواقع سن واقعی خود را گفته و\n",
    "زنها در ۱۰ % مواقع سن واقعی خود را می گويند. اگر يک نفر سن واقعی خود را نگفته باشد, احتمال اين\n",
    "که او زن باشد چقدر است ؟\n",
    "</div>\n"
   ]
  },
  {
   "cell_type": "markdown",
   "metadata": {},
   "source": []
  }
 ],
 "metadata": {
  "kernelspec": {
   "display_name": "Python 3",
   "language": "python",
   "name": "python3"
  },
  "language_info": {
   "codemirror_mode": {
    "name": "ipython",
    "version": 3
   },
   "file_extension": ".py",
   "mimetype": "text/x-python",
   "name": "python",
   "nbconvert_exporter": "python",
   "pygments_lexer": "ipython3",
   "version": "3.10.12"
  }
 },
 "nbformat": 4,
 "nbformat_minor": 2
}
